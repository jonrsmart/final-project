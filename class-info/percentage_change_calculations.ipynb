{
 "cells": [
  {
   "cell_type": "code",
   "execution_count": 1,
   "metadata": {},
   "outputs": [],
   "source": [
    "import matplotlib.pyplot as plt\n",
    "import pandas as pd\n",
    "import numpy as np\n",
    "import requests\n",
    "import time\n",
    "from scipy.stats import linregress\n",
    "from config import akey"
   ]
  },
  {
   "cell_type": "code",
   "execution_count": 2,
   "metadata": {},
   "outputs": [],
   "source": [
    "file='api-data/yearly_summary/prices_for_'\n",
    "company_file = 'api-data/company_info.csv'\n",
    "years = ['2015','2016','2017','2018','2019','2020']\n",
    "company = pd.read_csv(company_file)\n",
    "#loop through years in list to open CSV files, group by Ticker, Industry and Sector. Then calculate Pct Change\n",
    "#using the lamba function that pulls beg and end dates for each stock then calculates the change. \n",
    "#It then groups by sector to get a sector analysis for each year. \n",
    "for year in years:\n",
    "    stocks = pd.read_csv(f'{file}{year}.csv')\n",
    "    sector_perf = stocks.groupby(['Ticker','Sector','Industry'],sort=False).apply(lambda x: (x['Close'].values[-1] - x['Close'].values[0]) / x['Close'].values[-1] * 100)\\\n",
    "    .reset_index(name='pct change')\n",
    "    sectors = sector_perf.groupby('Sector').mean()\n",
    "    sectors.sort_values('pct change', ascending=False, inplace=True)\n",
    "    sectors['Year'] = year\n",
    "    sectors.to_csv(f'api-data/yearly_summary/sector_pct_chg_{year}.csv')\n",
    "#same as above, but instead of looking at sectors we are looking at individual stock tickers\n",
    "    ticker = stocks.groupby('Ticker',sort=False).apply(lambda x: (x['Close'].values[-1] - x['Close'].values[0]) / x['Close'].values[-1] * 100)\\\n",
    "    .reset_index(name='pct change')\n",
    "    ticker.sort_values('pct change', ascending=False, inplace=True)\n",
    "    tickers = sector_perf.merge(company, on='Ticker', how='left')\n",
    "    tickers.drop(columns=['Industry_x','Sector_x'], inplace=True)\n",
    "    tickers.rename(columns={'Industry_y':'Industry','Sector_y':'Sector'}, inplace=True)\n",
    "    tickers['Year'] = year\n",
    "    tickers.to_csv(f'api-data/yearly_summary/ticker_pct_chg_{year}.csv', index=False)"
   ]
  },
  {
   "cell_type": "code",
   "execution_count": null,
   "metadata": {},
   "outputs": [],
   "source": []
  }
 ],
 "metadata": {
  "kernelspec": {
   "display_name": "Python 3",
   "language": "python",
   "name": "python3"
  },
  "language_info": {
   "codemirror_mode": {
    "name": "ipython",
    "version": 3
   },
   "file_extension": ".py",
   "mimetype": "text/x-python",
   "name": "python",
   "nbconvert_exporter": "python",
   "pygments_lexer": "ipython3",
   "version": "3.6.10"
  }
 },
 "nbformat": 4,
 "nbformat_minor": 4
}
