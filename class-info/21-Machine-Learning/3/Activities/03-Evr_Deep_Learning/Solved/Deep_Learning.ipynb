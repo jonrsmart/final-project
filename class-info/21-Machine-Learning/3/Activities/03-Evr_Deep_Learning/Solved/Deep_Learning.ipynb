{
 "cells": [
  {
   "cell_type": "code",
   "execution_count": 1,
   "metadata": {},
   "outputs": [],
   "source": [
    "# Set the seed value for the notebook so the results are reproducible\n",
    "from numpy.random import seed\n",
    "seed(1)\n",
    "from tensorflow import random\n",
    "random.set_seed(1)"
   ]
  },
  {
   "cell_type": "code",
   "execution_count": 2,
   "metadata": {},
   "outputs": [],
   "source": [
    "%matplotlib inline\n",
    "import matplotlib.pyplot as plt\n",
    "import numpy as np\n",
    "import sklearn\n",
    "import sklearn.datasets"
   ]
  },
  {
   "cell_type": "code",
   "execution_count": 3,
   "metadata": {},
   "outputs": [],
   "source": [
    "# Create Data\n",
    "X, y = sklearn.datasets.make_circles(noise=0.08, factor=.5, random_state=1)"
   ]
  },
  {
   "cell_type": "code",
   "execution_count": 4,
   "metadata": {},
   "outputs": [
    {
     "data": {
      "text/plain": [
       "<matplotlib.collections.PathCollection at 0x1ba090082b0>"
      ]
     },
     "execution_count": 4,
     "metadata": {},
     "output_type": "execute_result"
    },
    {
     "data": {
      "image/png": "[encoded data removed]",
      "text/plain": [
       "<Figure size 432x288 with 1 Axes>"
      ]
     },
     "metadata": {
      "needs_background": "light"
     },
     "output_type": "display_data"
    }
   ],
   "source": [
    "# Visualize Data\n",
    "plt.scatter(X[:, 0], X[:, 1], c=y)"
   ]
  },
  {
   "cell_type": "code",
   "execution_count": 5,
   "metadata": {
    "nbgrader": {
     "grade": false,
     "grade_id": "cell-25fb99ba413a3271",
     "locked": false,
     "schema_version": 1,
     "solution": true
    }
   },
   "outputs": [],
   "source": [
    "# Use train_test_split to create training and testing data\n",
    "from sklearn.model_selection import train_test_split\n",
    "\n",
    "X_train, X_test, y_train, y_test = train_test_split(X, y, random_state=1)"
   ]
  },
  {
   "cell_type": "code",
   "execution_count": 6,
   "metadata": {
    "nbgrader": {
     "grade": false,
     "grade_id": "cell-7e1de5d9b7942f68",
     "locked": false,
     "schema_version": 1,
     "solution": true
    }
   },
   "outputs": [],
   "source": [
    "from sklearn.preprocessing import StandardScaler\n",
    "\n",
    "# Create a StandardScater model and fit it to the training data\n",
    "X_scaler = StandardScaler().fit(X_train)"
   ]
  },
  {
   "cell_type": "code",
   "execution_count": 7,
   "metadata": {
    "nbgrader": {
     "grade": false,
     "grade_id": "cell-9532e12246e485d5",
     "locked": false,
     "schema_version": 1,
     "solution": true
    }
   },
   "outputs": [],
   "source": [
    "# Transform the training and testing data using the X_scaler\n",
    "\n",
    "X_train_scaled = X_scaler.transform(X_train)\n",
    "X_test_scaled = X_scaler.transform(X_test)"
   ]
  },
  {
   "cell_type": "code",
   "execution_count": 8,
   "metadata": {},
   "outputs": [],
   "source": [
    "from tensorflow.keras.utils import to_categorical"
   ]
  },
  {
   "cell_type": "code",
   "execution_count": 9,
   "metadata": {},
   "outputs": [],
   "source": [
    "# One-hot encoding\n",
    "y_train_categorical = to_categorical(y_train)\n",
    "y_test_categorical = to_categorical(y_test)"
   ]
  },
  {
   "cell_type": "code",
   "execution_count": 10,
   "metadata": {
    "nbgrader": {
     "grade": false,
     "grade_id": "cell-ec399a95e133cb58",
     "locked": false,
     "schema_version": 1,
     "solution": true
    }
   },
   "outputs": [],
   "source": [
    "# first, create a normal neural network with 2 inputs, 6 hidden nodes, and 2 outputs\n",
    "from tensorflow.keras.models import Sequential\n",
    "from tensorflow.keras.layers import Dense\n",
    "\n",
    "model = Sequential()\n",
    "model.add(Dense(units=6, activation='relu', input_dim=2))\n",
    "model.add(Dense(units=2, activation='softmax'))"
   ]
  },
  {
   "cell_type": "code",
   "execution_count": 11,
   "metadata": {},
   "outputs": [
    {
     "name": "stdout",
     "output_type": "stream",
     "text": [
      "Model: \"sequential\"\n",
      "_________________________________________________________________\n",
      "Layer (type)                 Output Shape              Param #   \n",
      "=================================================================\n",
      "dense (Dense)                (None, 6)                 18        \n",
      "_________________________________________________________________\n",
      "dense_1 (Dense)              (None, 2)                 14        \n",
      "=================================================================\n",
      "Total params: 32\n",
      "Trainable params: 32\n",
      "Non-trainable params: 0\n",
      "_________________________________________________________________\n"
     ]
    }
   ],
   "source": [
    "model.summary()"
   ]
  },
  {
   "cell_type": "code",
   "execution_count": 12,
   "metadata": {},
   "outputs": [],
   "source": [
    "# Compile the model\n",
    "model.compile(optimizer='adam',\n",
    "              loss='categorical_crossentropy',\n",
    "              metrics=['accuracy'])"
   ]
  },
  {
   "cell_type": "code",
   "execution_count": 54,
   "metadata": {
    "nbgrader": {
     "grade": false,
     "grade_id": "cell-5cf2fbdbea0ed50b",
     "locked": false,
     "schema_version": 1,
     "solution": true
    }
   },
   "outputs": [
    {
     "name": "stdout",
     "output_type": "stream",
     "text": [
      "Train on 75 samples\n",
      "Epoch 1/100\n",
      "75/75 - 0s - loss: 0.8349 - accuracy: 0.4400\n",
      "Epoch 2/100\n",
      "75/75 - 0s - loss: 0.8302 - accuracy: 0.4400\n",
      "Epoch 3/100\n",
      "75/75 - 0s - loss: 0.8258 - accuracy: 0.4267\n",
      "Epoch 4/100\n",
      "75/75 - 0s - loss: 0.8214 - accuracy: 0.4267\n",
      "Epoch 5/100\n",
      "75/75 - 0s - loss: 0.8173 - accuracy: 0.4267\n",
      "Epoch 6/100\n",
      "75/75 - 0s - loss: 0.8134 - accuracy: 0.4400\n",
      "Epoch 7/100\n",
      "75/75 - 0s - loss: 0.8095 - accuracy: 0.4400\n",
      "Epoch 8/100\n",
      "75/75 - 0s - loss: 0.8055 - accuracy: 0.4267\n",
      "Epoch 9/100\n",
      "75/75 - 0s - loss: 0.8022 - accuracy: 0.4267\n",
      "Epoch 10/100\n",
      "75/75 - 0s - loss: 0.7983 - accuracy: 0.4533\n",
      "Epoch 11/100\n",
      "75/75 - 0s - loss: 0.7953 - accuracy: 0.4267\n",
      "Epoch 12/100\n",
      "75/75 - 0s - loss: 0.7924 - accuracy: 0.4267\n",
      "Epoch 13/100\n",
      "75/75 - 0s - loss: 0.7887 - accuracy: 0.4267\n",
      "Epoch 14/100\n",
      "75/75 - 0s - loss: 0.7861 - accuracy: 0.4400\n",
      "Epoch 15/100\n",
      "75/75 - 0s - loss: 0.7826 - accuracy: 0.4533\n",
      "Epoch 16/100\n",
      "75/75 - 0s - loss: 0.7801 - accuracy: 0.4533\n",
      "Epoch 17/100\n",
      "75/75 - 0s - loss: 0.7773 - accuracy: 0.4533\n",
      "Epoch 18/100\n",
      "75/75 - 0s - loss: 0.7745 - accuracy: 0.4533\n",
      "Epoch 19/100\n",
      "75/75 - 0s - loss: 0.7720 - accuracy: 0.4667\n",
      "Epoch 20/100\n",
      "75/75 - 0s - loss: 0.7697 - accuracy: 0.4533\n",
      "Epoch 21/100\n",
      "75/75 - 0s - loss: 0.7671 - accuracy: 0.4667\n",
      "Epoch 22/100\n",
      "75/75 - 0s - loss: 0.7653 - accuracy: 0.4667\n",
      "Epoch 23/100\n",
      "75/75 - 0s - loss: 0.7625 - accuracy: 0.4667\n",
      "Epoch 24/100\n",
      "75/75 - 0s - loss: 0.7606 - accuracy: 0.4667\n",
      "Epoch 25/100\n",
      "75/75 - 0s - loss: 0.7586 - accuracy: 0.4667\n",
      "Epoch 26/100\n",
      "75/75 - 0s - loss: 0.7564 - accuracy: 0.4667\n",
      "Epoch 27/100\n",
      "75/75 - 0s - loss: 0.7545 - accuracy: 0.4667\n",
      "Epoch 28/100\n",
      "75/75 - 0s - loss: 0.7526 - accuracy: 0.4667\n",
      "Epoch 29/100\n",
      "75/75 - 0s - loss: 0.7511 - accuracy: 0.4667\n",
      "Epoch 30/100\n",
      "75/75 - 0s - loss: 0.7493 - accuracy: 0.4667\n",
      "Epoch 31/100\n",
      "75/75 - 0s - loss: 0.7478 - accuracy: 0.4667\n",
      "Epoch 32/100\n",
      "75/75 - 0s - loss: 0.7460 - accuracy: 0.4667\n",
      "Epoch 33/100\n",
      "75/75 - 0s - loss: 0.7444 - accuracy: 0.4667\n",
      "Epoch 34/100\n",
      "75/75 - 0s - loss: 0.7429 - accuracy: 0.4667\n",
      "Epoch 35/100\n",
      "75/75 - 0s - loss: 0.7414 - accuracy: 0.4667\n",
      "Epoch 36/100\n",
      "75/75 - 0s - loss: 0.7399 - accuracy: 0.4667\n",
      "Epoch 37/100\n",
      "75/75 - 0s - loss: 0.7380 - accuracy: 0.4533\n",
      "Epoch 38/100\n",
      "75/75 - 0s - loss: 0.7368 - accuracy: 0.4533\n",
      "Epoch 39/100\n",
      "75/75 - 0s - loss: 0.7352 - accuracy: 0.4533\n",
      "Epoch 40/100\n",
      "75/75 - 0s - loss: 0.7337 - accuracy: 0.4667\n",
      "Epoch 41/100\n",
      "75/75 - 0s - loss: 0.7323 - accuracy: 0.4667\n",
      "Epoch 42/100\n",
      "75/75 - 0s - loss: 0.7310 - accuracy: 0.4800\n",
      "Epoch 43/100\n",
      "75/75 - 0s - loss: 0.7298 - accuracy: 0.4800\n",
      "Epoch 44/100\n",
      "75/75 - 0s - loss: 0.7283 - accuracy: 0.4800\n",
      "Epoch 45/100\n",
      "75/75 - 0s - loss: 0.7269 - accuracy: 0.4933\n",
      "Epoch 46/100\n",
      "75/75 - 0s - loss: 0.7255 - accuracy: 0.4933\n",
      "Epoch 47/100\n",
      "75/75 - 0s - loss: 0.7243 - accuracy: 0.4933\n",
      "Epoch 48/100\n",
      "75/75 - 0s - loss: 0.7231 - accuracy: 0.4933\n",
      "Epoch 49/100\n",
      "75/75 - 0s - loss: 0.7218 - accuracy: 0.4933\n",
      "Epoch 50/100\n",
      "75/75 - 0s - loss: 0.7206 - accuracy: 0.4933\n",
      "Epoch 51/100\n",
      "75/75 - 0s - loss: 0.7193 - accuracy: 0.4933\n",
      "Epoch 52/100\n",
      "75/75 - 0s - loss: 0.7182 - accuracy: 0.4933\n",
      "Epoch 53/100\n",
      "75/75 - 0s - loss: 0.7170 - accuracy: 0.4933\n",
      "Epoch 54/100\n",
      "75/75 - 0s - loss: 0.7159 - accuracy: 0.4933\n",
      "Epoch 55/100\n",
      "75/75 - 0s - loss: 0.7150 - accuracy: 0.4800\n",
      "Epoch 56/100\n",
      "75/75 - 0s - loss: 0.7137 - accuracy: 0.4800\n",
      "Epoch 57/100\n",
      "75/75 - 0s - loss: 0.7129 - accuracy: 0.4800\n",
      "Epoch 58/100\n",
      "75/75 - 0s - loss: 0.7116 - accuracy: 0.4800\n",
      "Epoch 59/100\n",
      "75/75 - 0s - loss: 0.7107 - accuracy: 0.4800\n",
      "Epoch 60/100\n",
      "75/75 - 0s - loss: 0.7096 - accuracy: 0.4800\n",
      "Epoch 61/100\n",
      "75/75 - 0s - loss: 0.7086 - accuracy: 0.4800\n",
      "Epoch 62/100\n",
      "75/75 - 0s - loss: 0.7075 - accuracy: 0.4800\n",
      "Epoch 63/100\n",
      "75/75 - 0s - loss: 0.7064 - accuracy: 0.4800\n",
      "Epoch 64/100\n",
      "75/75 - 0s - loss: 0.7055 - accuracy: 0.4800\n",
      "Epoch 65/100\n",
      "75/75 - 0s - loss: 0.7044 - accuracy: 0.4800\n",
      "Epoch 66/100\n",
      "75/75 - 0s - loss: 0.7034 - accuracy: 0.4800\n",
      "Epoch 67/100\n",
      "75/75 - 0s - loss: 0.7025 - accuracy: 0.4800\n",
      "Epoch 68/100\n",
      "75/75 - 0s - loss: 0.7015 - accuracy: 0.4800\n",
      "Epoch 69/100\n",
      "75/75 - 0s - loss: 0.7005 - accuracy: 0.4800\n",
      "Epoch 70/100\n",
      "75/75 - 0s - loss: 0.6995 - accuracy: 0.4933\n",
      "Epoch 71/100\n",
      "75/75 - 0s - loss: 0.6985 - accuracy: 0.4933\n",
      "Epoch 72/100\n",
      "75/75 - 0s - loss: 0.6977 - accuracy: 0.4800\n",
      "Epoch 73/100\n",
      "75/75 - 0s - loss: 0.6966 - accuracy: 0.4800\n",
      "Epoch 74/100\n",
      "75/75 - 0s - loss: 0.6957 - accuracy: 0.4800\n",
      "Epoch 75/100\n",
      "75/75 - 0s - loss: 0.6947 - accuracy: 0.4800\n",
      "Epoch 76/100\n",
      "75/75 - 0s - loss: 0.6939 - accuracy: 0.4800\n",
      "Epoch 77/100\n",
      "75/75 - 0s - loss: 0.6930 - accuracy: 0.4800\n",
      "Epoch 78/100\n",
      "75/75 - 0s - loss: 0.6920 - accuracy: 0.4800\n",
      "Epoch 79/100\n",
      "75/75 - 0s - loss: 0.6913 - accuracy: 0.4800\n",
      "Epoch 80/100\n",
      "75/75 - 0s - loss: 0.6904 - accuracy: 0.4933\n",
      "Epoch 81/100\n",
      "75/75 - 0s - loss: 0.6895 - accuracy: 0.4933\n",
      "Epoch 82/100\n",
      "75/75 - 0s - loss: 0.6887 - accuracy: 0.4800\n",
      "Epoch 83/100\n",
      "75/75 - 0s - loss: 0.6880 - accuracy: 0.4800\n",
      "Epoch 84/100\n",
      "75/75 - 0s - loss: 0.6871 - accuracy: 0.4800\n",
      "Epoch 85/100\n",
      "75/75 - 0s - loss: 0.6862 - accuracy: 0.4800\n",
      "Epoch 86/100\n",
      "75/75 - 0s - loss: 0.6854 - accuracy: 0.4800\n",
      "Epoch 87/100\n",
      "75/75 - 0s - loss: 0.6847 - accuracy: 0.4800\n",
      "Epoch 88/100\n",
      "75/75 - 0s - loss: 0.6839 - accuracy: 0.4800\n",
      "Epoch 89/100\n",
      "75/75 - 0s - loss: 0.6833 - accuracy: 0.4800\n",
      "Epoch 90/100\n",
      "75/75 - 0s - loss: 0.6824 - accuracy: 0.4800\n",
      "Epoch 91/100\n",
      "75/75 - 0s - loss: 0.6816 - accuracy: 0.4800\n",
      "Epoch 92/100\n",
      "75/75 - 0s - loss: 0.6808 - accuracy: 0.4933\n",
      "Epoch 93/100\n",
      "75/75 - 0s - loss: 0.6801 - accuracy: 0.4933\n",
      "Epoch 94/100\n",
      "75/75 - 0s - loss: 0.6793 - accuracy: 0.4933\n",
      "Epoch 95/100\n",
      "75/75 - 0s - loss: 0.6785 - accuracy: 0.4933\n",
      "Epoch 96/100\n",
      "75/75 - 0s - loss: 0.6778 - accuracy: 0.4933\n",
      "Epoch 97/100\n",
      "75/75 - 0s - loss: 0.6768 - accuracy: 0.4933\n",
      "Epoch 98/100\n",
      "75/75 - 0s - loss: 0.6761 - accuracy: 0.4933\n",
      "Epoch 99/100\n",
      "75/75 - 0s - loss: 0.6754 - accuracy: 0.4933\n",
      "Epoch 100/100\n",
      "75/75 - 0s - loss: 0.6747 - accuracy: 0.4933\n"
     ]
    },
    {
     "data": {
      "text/plain": [
       "<tensorflow.python.keras.callbacks.History at 0x17fda8b6278>"
      ]
     },
     "execution_count": 54,
     "metadata": {},
     "output_type": "execute_result"
    }
   ],
   "source": [
    "# Fit the model to the training data\n",
    "model.fit(\n",
    "    X_train_scaled,\n",
    "    y_train_categorical,\n",
    "    epochs=100,\n",
    "    shuffle=True,\n",
    "    verbose=2\n",
    ")"
   ]
  },
  {
   "cell_type": "raw",
   "metadata": {},
   "source": [
    "# Deep Learning\n",
    "For this network, we simply add an additional hidden layer of 6 nodes"
   ]
  },
  {
   "cell_type": "code",
   "execution_count": 13,
   "metadata": {},
   "outputs": [],
   "source": [
    "deep_model = Sequential()\n",
    "deep_model.add(Dense(units=6, activation='relu', input_dim=2))\n",
    "deep_model.add(Dense(units=6, activation='relu'))\n",
    "deep_model.add(Dense(units=6, activation='relu'))\n",
    "deep_model.add(Dense(units=6, activation='relu'))\n",
    "deep_model.add(Dense(units=2, activation='softmax'))"
   ]
  },
  {
   "cell_type": "code",
   "execution_count": 14,
   "metadata": {},
   "outputs": [
    {
     "name": "stdout",
     "output_type": "stream",
     "text": [
      "Model: \"sequential_1\"\n",
      "_________________________________________________________________\n",
      "Layer (type)                 Output Shape              Param #   \n",
      "=================================================================\n",
      "dense_2 (Dense)              (None, 6)                 18        \n",
      "_________________________________________________________________\n",
      "dense_3 (Dense)              (None, 6)                 42        \n",
      "_________________________________________________________________\n",
      "dense_4 (Dense)              (None, 6)                 42        \n",
      "_________________________________________________________________\n",
      "dense_5 (Dense)              (None, 6)                 42        \n",
      "_________________________________________________________________\n",
      "dense_6 (Dense)              (None, 2)                 14        \n",
      "=================================================================\n",
      "Total params: 158\n",
      "Trainable params: 158\n",
      "Non-trainable params: 0\n",
      "_________________________________________________________________\n"
     ]
    }
   ],
   "source": [
    "deep_model.summary()"
   ]
  },
  {
   "cell_type": "code",
   "execution_count": 15,
   "metadata": {},
   "outputs": [
    {
     "name": "stdout",
     "output_type": "stream",
     "text": [
      "Train on 75 samples\n",
      "Epoch 1/100\n",
      "75/75 - 0s - loss: 0.7245 - accuracy: 0.4800\n",
      "Epoch 2/100\n",
      "75/75 - 0s - loss: 0.7219 - accuracy: 0.4800\n",
      "Epoch 3/100\n",
      "75/75 - 0s - loss: 0.7201 - accuracy: 0.4800\n",
      "Epoch 4/100\n",
      "75/75 - 0s - loss: 0.7180 - accuracy: 0.4800\n",
      "Epoch 5/100\n",
      "75/75 - 0s - loss: 0.7162 - accuracy: 0.4533\n",
      "Epoch 6/100\n",
      "75/75 - 0s - loss: 0.7145 - accuracy: 0.4267\n",
      "Epoch 7/100\n",
      "75/75 - 0s - loss: 0.7131 - accuracy: 0.3333\n",
      "Epoch 8/100\n",
      "75/75 - 0s - loss: 0.7114 - accuracy: 0.2533\n",
      "Epoch 9/100\n",
      "75/75 - 0s - loss: 0.7103 - accuracy: 0.2533\n",
      "Epoch 10/100\n",
      "75/75 - 0s - loss: 0.7088 - accuracy: 0.2533\n",
      "Epoch 11/100\n",
      "75/75 - 0s - loss: 0.7073 - accuracy: 0.2400\n",
      "Epoch 12/100\n",
      "75/75 - 0s - loss: 0.7057 - accuracy: 0.2267\n",
      "Epoch 13/100\n",
      "75/75 - 0s - loss: 0.7035 - accuracy: 0.2667\n",
      "Epoch 14/100\n",
      "75/75 - 0s - loss: 0.7012 - accuracy: 0.2933\n",
      "Epoch 15/100\n",
      "75/75 - 0s - loss: 0.6985 - accuracy: 0.3200\n",
      "Epoch 16/100\n",
      "75/75 - 0s - loss: 0.6964 - accuracy: 0.3867\n",
      "Epoch 17/100\n",
      "75/75 - 0s - loss: 0.6950 - accuracy: 0.4933\n",
      "Epoch 18/100\n",
      "75/75 - 0s - loss: 0.6943 - accuracy: 0.5200\n",
      "Epoch 19/100\n",
      "75/75 - 0s - loss: 0.6938 - accuracy: 0.5200\n",
      "Epoch 20/100\n",
      "75/75 - 0s - loss: 0.6935 - accuracy: 0.5200\n",
      "Epoch 21/100\n",
      "75/75 - 0s - loss: 0.6933 - accuracy: 0.5200\n",
      "Epoch 22/100\n",
      "75/75 - 0s - loss: 0.6930 - accuracy: 0.5200\n",
      "Epoch 23/100\n",
      "75/75 - 0s - loss: 0.6926 - accuracy: 0.5200\n",
      "Epoch 24/100\n",
      "75/75 - 0s - loss: 0.6922 - accuracy: 0.5200\n",
      "Epoch 25/100\n",
      "75/75 - 0s - loss: 0.6919 - accuracy: 0.5200\n",
      "Epoch 26/100\n",
      "75/75 - 0s - loss: 0.6914 - accuracy: 0.5200\n",
      "Epoch 27/100\n",
      "75/75 - 0s - loss: 0.6910 - accuracy: 0.5200\n",
      "Epoch 28/100\n",
      "75/75 - 0s - loss: 0.6905 - accuracy: 0.5200\n",
      "Epoch 29/100\n",
      "75/75 - 0s - loss: 0.6901 - accuracy: 0.5200\n",
      "Epoch 30/100\n",
      "75/75 - 0s - loss: 0.6895 - accuracy: 0.5200\n",
      "Epoch 31/100\n",
      "75/75 - 0s - loss: 0.6889 - accuracy: 0.5200\n",
      "Epoch 32/100\n",
      "75/75 - 0s - loss: 0.6880 - accuracy: 0.5200\n",
      "Epoch 33/100\n",
      "75/75 - 0s - loss: 0.6871 - accuracy: 0.5200\n",
      "Epoch 34/100\n",
      "75/75 - 0s - loss: 0.6858 - accuracy: 0.5200\n",
      "Epoch 35/100\n",
      "75/75 - 0s - loss: 0.6844 - accuracy: 0.5200\n",
      "Epoch 36/100\n",
      "75/75 - 0s - loss: 0.6830 - accuracy: 0.5467\n",
      "Epoch 37/100\n",
      "75/75 - 0s - loss: 0.6819 - accuracy: 0.6667\n",
      "Epoch 38/100\n",
      "75/75 - 0s - loss: 0.6811 - accuracy: 0.7200\n",
      "Epoch 39/100\n",
      "75/75 - 0s - loss: 0.6803 - accuracy: 0.7600\n",
      "Epoch 40/100\n",
      "75/75 - 0s - loss: 0.6795 - accuracy: 0.7867\n",
      "Epoch 41/100\n",
      "75/75 - 0s - loss: 0.6786 - accuracy: 0.8000\n",
      "Epoch 42/100\n",
      "75/75 - 0s - loss: 0.6777 - accuracy: 0.8533\n",
      "Epoch 43/100\n",
      "75/75 - 0s - loss: 0.6767 - accuracy: 0.8400\n",
      "Epoch 44/100\n",
      "75/75 - 0s - loss: 0.6757 - accuracy: 0.8667\n",
      "Epoch 45/100\n",
      "75/75 - 0s - loss: 0.6746 - accuracy: 0.8667\n",
      "Epoch 46/100\n",
      "75/75 - 0s - loss: 0.6735 - accuracy: 0.8533\n",
      "Epoch 47/100\n",
      "75/75 - 0s - loss: 0.6724 - accuracy: 0.8667\n",
      "Epoch 48/100\n",
      "75/75 - 0s - loss: 0.6715 - accuracy: 0.8933\n",
      "Epoch 49/100\n",
      "75/75 - 0s - loss: 0.6702 - accuracy: 0.8800\n",
      "Epoch 50/100\n",
      "75/75 - 0s - loss: 0.6689 - accuracy: 0.8800\n",
      "Epoch 51/100\n",
      "75/75 - 0s - loss: 0.6676 - accuracy: 0.8933\n",
      "Epoch 52/100\n",
      "75/75 - 0s - loss: 0.6662 - accuracy: 0.9200\n",
      "Epoch 53/100\n",
      "75/75 - 0s - loss: 0.6648 - accuracy: 0.9333\n",
      "Epoch 54/100\n",
      "75/75 - 0s - loss: 0.6634 - accuracy: 0.9333\n",
      "Epoch 55/100\n",
      "75/75 - 0s - loss: 0.6620 - accuracy: 0.9333\n",
      "Epoch 56/100\n",
      "75/75 - 0s - loss: 0.6603 - accuracy: 0.9333\n",
      "Epoch 57/100\n",
      "75/75 - 0s - loss: 0.6588 - accuracy: 0.9067\n",
      "Epoch 58/100\n",
      "75/75 - 0s - loss: 0.6570 - accuracy: 0.9067\n",
      "Epoch 59/100\n",
      "75/75 - 0s - loss: 0.6552 - accuracy: 0.9067\n",
      "Epoch 60/100\n",
      "75/75 - 0s - loss: 0.6534 - accuracy: 0.9333\n",
      "Epoch 61/100\n",
      "75/75 - 0s - loss: 0.6512 - accuracy: 0.9467\n",
      "Epoch 62/100\n",
      "75/75 - 0s - loss: 0.6492 - accuracy: 0.9467\n",
      "Epoch 63/100\n",
      "75/75 - 0s - loss: 0.6470 - accuracy: 0.9600\n",
      "Epoch 64/100\n",
      "75/75 - 0s - loss: 0.6446 - accuracy: 0.9600\n",
      "Epoch 65/100\n",
      "75/75 - 0s - loss: 0.6421 - accuracy: 0.9600\n",
      "Epoch 66/100\n",
      "75/75 - 0s - loss: 0.6394 - accuracy: 0.9600\n",
      "Epoch 67/100\n",
      "75/75 - 0s - loss: 0.6366 - accuracy: 0.9600\n",
      "Epoch 68/100\n",
      "75/75 - 0s - loss: 0.6331 - accuracy: 0.9600\n",
      "Epoch 69/100\n",
      "75/75 - 0s - loss: 0.6287 - accuracy: 0.9600\n",
      "Epoch 70/100\n",
      "75/75 - 0s - loss: 0.6232 - accuracy: 0.9600\n",
      "Epoch 71/100\n",
      "75/75 - 0s - loss: 0.6174 - accuracy: 0.9467\n",
      "Epoch 72/100\n",
      "75/75 - 0s - loss: 0.6104 - accuracy: 0.9467\n",
      "Epoch 73/100\n",
      "75/75 - 0s - loss: 0.6029 - accuracy: 0.9333\n",
      "Epoch 74/100\n",
      "75/75 - 0s - loss: 0.5951 - accuracy: 0.9333\n",
      "Epoch 75/100\n",
      "75/75 - 0s - loss: 0.5879 - accuracy: 0.9067\n",
      "Epoch 76/100\n",
      "75/75 - 0s - loss: 0.5807 - accuracy: 0.9067\n",
      "Epoch 77/100\n",
      "75/75 - 0s - loss: 0.5744 - accuracy: 0.9200\n",
      "Epoch 78/100\n",
      "75/75 - 0s - loss: 0.5679 - accuracy: 0.9333\n",
      "Epoch 79/100\n",
      "75/75 - 0s - loss: 0.5617 - accuracy: 0.9600\n",
      "Epoch 80/100\n",
      "75/75 - 0s - loss: 0.5548 - accuracy: 0.9600\n",
      "Epoch 81/100\n",
      "75/75 - 0s - loss: 0.5480 - accuracy: 0.9733\n",
      "Epoch 82/100\n",
      "75/75 - 0s - loss: 0.5406 - accuracy: 0.9733\n",
      "Epoch 83/100\n",
      "75/75 - 0s - loss: 0.5332 - accuracy: 0.9733\n",
      "Epoch 84/100\n",
      "75/75 - 0s - loss: 0.5262 - accuracy: 0.9733\n",
      "Epoch 85/100\n",
      "75/75 - 0s - loss: 0.5188 - accuracy: 0.9733\n",
      "Epoch 86/100\n",
      "75/75 - 0s - loss: 0.5116 - accuracy: 0.9867\n",
      "Epoch 87/100\n",
      "75/75 - 0s - loss: 0.5039 - accuracy: 0.9867\n",
      "Epoch 88/100\n",
      "75/75 - 0s - loss: 0.4964 - accuracy: 0.9867\n",
      "Epoch 89/100\n",
      "75/75 - 0s - loss: 0.4886 - accuracy: 1.0000\n",
      "Epoch 90/100\n",
      "75/75 - 0s - loss: 0.4804 - accuracy: 0.9867\n",
      "Epoch 91/100\n",
      "75/75 - 0s - loss: 0.4723 - accuracy: 0.9867\n",
      "Epoch 92/100\n",
      "75/75 - 0s - loss: 0.4642 - accuracy: 0.9867\n",
      "Epoch 93/100\n",
      "75/75 - 0s - loss: 0.4559 - accuracy: 0.9867\n",
      "Epoch 94/100\n",
      "75/75 - 0s - loss: 0.4473 - accuracy: 1.0000\n",
      "Epoch 95/100\n",
      "75/75 - 0s - loss: 0.4385 - accuracy: 1.0000\n",
      "Epoch 96/100\n",
      "75/75 - 0s - loss: 0.4307 - accuracy: 1.0000\n",
      "Epoch 97/100\n",
      "75/75 - 0s - loss: 0.4224 - accuracy: 1.0000\n",
      "Epoch 98/100\n",
      "75/75 - 0s - loss: 0.4140 - accuracy: 1.0000\n",
      "Epoch 99/100\n",
      "75/75 - 0s - loss: 0.4051 - accuracy: 1.0000\n",
      "Epoch 100/100\n",
      "75/75 - 0s - loss: 0.3967 - accuracy: 1.0000\n"
     ]
    },
    {
     "data": {
      "text/plain": [
       "<tensorflow.python.keras.callbacks.History at 0x1ba096f7630>"
      ]
     },
     "execution_count": 15,
     "metadata": {},
     "output_type": "execute_result"
    }
   ],
   "source": [
    "deep_model.compile(optimizer='adam',\n",
    "                   loss='categorical_crossentropy',\n",
    "                   metrics=['accuracy'])\n",
    "\n",
    "deep_model.fit(\n",
    "    X_train_scaled,\n",
    "    y_train_categorical,\n",
    "    epochs=100,\n",
    "    shuffle=True,\n",
    "    verbose=2\n",
    ")"
   ]
  },
  {
   "cell_type": "markdown",
   "metadata": {},
   "source": [
    "# Compare the models below"
   ]
  },
  {
   "cell_type": "code",
   "execution_count": 16,
   "metadata": {},
   "outputs": [
    {
     "name": "stdout",
     "output_type": "stream",
     "text": [
      "25/25 - 0s - loss: 0.7264 - accuracy: 0.6000\n",
      "Normal Neural Network - Loss: 0.7263632416725159, Accuracy: 0.6000000238418579\n"
     ]
    }
   ],
   "source": [
    "model_loss, model_accuracy = model.evaluate(\n",
    "    X_test_scaled, y_test_categorical, verbose=2)\n",
    "print(\n",
    "    f\"Normal Neural Network - Loss: {model_loss}, Accuracy: {model_accuracy}\")"
   ]
  },
  {
   "cell_type": "code",
   "execution_count": 17,
   "metadata": {},
   "outputs": [
    {
     "name": "stdout",
     "output_type": "stream",
     "text": [
      "25/25 - 0s - loss: 0.3635 - accuracy: 1.0000\n",
      "Deep Neural Network - Loss: 0.3634868562221527, Accuracy: 1.0\n"
     ]
    }
   ],
   "source": [
    "model_loss, model_accuracy = deep_model.evaluate(\n",
    "    X_test_scaled, y_test_categorical, verbose=2)\n",
    "print(f\"Deep Neural Network - Loss: {model_loss}, Accuracy: {model_accuracy}\")"
   ]
  },
  {
   "cell_type": "markdown",
   "metadata": {},
   "source": [
    "# In a nutshell..."
   ]
  },
  {
   "cell_type": "markdown",
   "metadata": {},
   "source": [
    "![stack more layers](../Images/stack-more-layers.jpg)"
   ]
  }
 ],
 "metadata": {
  "anaconda-cloud": {},
  "kernelspec": {
   "display_name": "Python 3",
   "language": "python",
   "name": "python3"
  },
  "language_info": {
   "codemirror_mode": {
    "name": "ipython",
    "version": 3
   },
   "file_extension": ".py",
   "mimetype": "text/x-python",
   "name": "python",
   "nbconvert_exporter": "python",
   "pygments_lexer": "ipython3",
   "version": "3.6.13"
  },
  "varInspector": {
   "cols": {
    "lenName": 16,
    "lenType": 16,
    "lenVar": 40
   },
   "kernels_config": {
    "python": {
     "delete_cmd_postfix": "",
     "delete_cmd_prefix": "del ",
     "library": "var_list.py",
     "varRefreshCmd": "print(var_dic_list())"
    },
    "r": {
     "delete_cmd_postfix": ") ",
     "delete_cmd_prefix": "rm(",
     "library": "var_list.r",
     "varRefreshCmd": "cat(var_dic_list()) "
    }
   },
   "types_to_exclude": [
    "module",
    "function",
    "builtin_function_or_method",
    "instance",
    "_Feature"
   ],
   "window_display": false
  }
 },
 "nbformat": 4,
 "nbformat_minor": 2
}
